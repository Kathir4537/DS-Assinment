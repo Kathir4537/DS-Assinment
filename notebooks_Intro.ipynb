{
  "metadata": {
    "kernelspec": {
      "name": "python",
      "display_name": "Python (Pyodide)",
      "language": "python"
    },
    "language_info": {
      "codemirror_mode": {
        "name": "python",
        "version": 3
      },
      "file_extension": ".py",
      "mimetype": "text/x-python",
      "name": "python",
      "nbconvert_exporter": "python",
      "pygments_lexer": "ipython3",
      "version": "3.8"
    }
  },
  "nbformat_minor": 5,
  "nbformat": 4,
  "cells": [
    {
      "cell_type": "code",
      "source": "# Q1. Write a program to find all pairs of an integer array whose sum is equal to a given number?\n\nfunction findPairsWithSum(arr, targetSum) {\n  const pairs = [];\n  const seen = new Set();\n\n  for (let num of arr) {\n    const complement = targetSum - num;\n    if (seen.has(complement)) {\n      pairs.push([num, complement]);\n    }\n    seen.add(num);\n  }\n\n  return pairs;\n}\n\n# Example usage:\nconst arr = [1, 2, 3, 4, 5, 6];\nconst targetSum = 7;\n\nconst result = findPairsWithSum(arr, targetSum);\nresult.forEach(pair => {\n    console.log(pair);\n});\n\n\n\n# Q2. Write a program to reverse an array in place? In place means you cannot create a new array. You have to update the original array.\n\nfunction reverseArrayInPlace(arr) {\n    const length = arr.length;\n    const middle = Math.floor(length / 2);\n\n    for (let i = 0; i < middle; i++) {\n        # Swap elements from the start and end of the array\n        const temp = arr[i];\n        arr[i] = arr[length - 1 - i];\n        arr[length - 1 - i] = temp;\n    }\n}\n\n# Example usage:\nconst myArray = [1, 2, 3, 4, 5];\nreverseArrayInPlace(myArray);\nconsole.log(myArray);\n\n\nQ3. Write a program to check if two strings are a rotation of each other?\n\n\nfunction areRotations(str1, str2) {\n    if (str1.length !== str2.length) {\n        return false; # If the lengths are different, they can't be rotations.\n    }\n\n    const concatenatedStr = str1 + str1;\n\n    # Check if str2 is a substring of the concatenated string.\n    if (concatenatedStr.includes(str2)) {\n        return true;\n    }\n\n    return false;\n}\n\n# Example usage:\nconst string1 = \"waterbottle\";\nconst string2 = \"erbottlewat\";\n\nif (areRotations(string1, string2)) {\n    console.log(\"The strings are rotations of each other.\");\n} else {\n    console.log(\"The strings are not rotations of each other.\");\n}\n\n\nQ4. Write a program to print the first non-repeated character from a string?\n\n\n\nfunction firstNonRepeatedCharacter(str) {\n    const charCount = {};\n\n    #Count the frequency of each character in the string\n    for (const char of str) {\n        charCount[char] = (charCount[char] || 0) + 1;\n    }\n\n    # Find the first character with a frequency of 1\n    for (const char of str) {\n        if (charCount[char] === 1) {\n            return char;\n        }\n    }\n\n    return null; # If there are no non-repeated characters\n}\n\n# Example usage:\nconst inputString = \"programming\";\nconst result = firstNonRepeatedCharacter(inputString);\n\nif (result) {\n    console.log(\"The first non-repeated character is: \" + result);\n} else {\n    console.log(\"There are no non-repeated characters in the string.\");\n}\n\n\nQ5. Read about the Tower of Hanoi algorithm. Write a program to implement it.\n\nfunction towerOfHanoi(n, source, auxiliary, target) {\n    if (n === 1) {\n        console.log(`Move disk 1 from ${source} to ${target}`);\n        return;\n    }\n\n    towerOfHanoi(n - 1, source, target, auxiliary);\n    console.log(`Move disk ${n} from ${source} to ${target}`);\n    towerOfHanoi(n - 1, auxiliary, source, target);\n}\n\n# Example usage:\nconst numDisks = 3;\ntowerOfHanoi(numDisks, 'A', 'B', 'C');\n\n\n\nQ6. Read about infix, prefix, and postfix expressions. Write a program to convert postfix to prefix expression.\n\nfunction postfixToPrefix(postfix) {\n    const stack = [];\n    const operators = \"+-*/\";\n\n    for (let token of postfix) {\n        if (operators.includes(token)) {\n            const operand2 = stack.pop();\n            const operand1 = stack.pop();\n            const prefixExpression = token + operand1 + operand2;\n            stack.push(prefixExpression);\n        } else {\n            stack.push(token);\n        }\n    }\n\n    return stack.pop();\n}\n\n# Example usage:\nconst postfixExpression = \"23+5*\";\nconst prefixExpression = postfixToPrefix(postfixExpression);\nconsole.log(\"Postfix: \" + postfixExpression);\nconsole.log(\"Prefix: \" + prefixExpression);\n\n\nQ7. Write a program to convert prefix expression to infix expression.\n\nfunction isOperator(char) {\n    return ['+', '-', '*', '/'].includes(char);\n}\n\nfunction prefixToInfix(prefix) {\n    const stack = [];\n    const operators = '+-*/';\n\n    for (let i = prefix.length - 1; i >= 0; i--) {\n        const token = prefix[i];\n\n        if (isOperator(token)) {\n            const operand1 = stack.pop();\n            const operand2 = stack.pop();\n            const infixExpression = `(${operand1}${token}${operand2})`;\n            stack.push(infixExpression);\n        } else {\n            stack.push(token);\n        }\n    }\n\n    return stack[0];\n}\n\n# Example usage:\nconst prefixExpression = \"*+AB-CD\";\nconst infixExpression = prefixToInfix(prefixExpression);\nconsole.log(\"Prefix: \" + prefixExpression);\nconsole.log(\"Infix: \" + infixExpression);\n\n\nQ8. Write a program to check if all the brackets are closed in a given code snippet\n\nfunction areBracketsBalanced(code) {\n    const stack = [];\n    const bracketPairs = { '(': ')', '[': ']', '{': '}' };\n\n    for (let char of code) {\n        if (bracketPairs[char]) {\n            # If it's an opening bracket, push it onto the stack.\n            stack.push(char);\n        } else if (Object.values(bracketPairs).includes(char)) {\n            # If it's a closing bracket, check if it matches the top of the stack.\n            if (bracketPairs[stack.pop()] !== char) {\n                return false; // Mismatched brackets\n            }\n        }\n    }\n\n    # If the stack is empty at the end, all brackets are balanced.\n    return stack.length === 0;\n}\n\n# Example usage:\nconst codeSnippet = \"if (x > 0) { console.log('Positive'); }\";\nif (areBracketsBalanced(codeSnippet)) {\n    console.log(\"Brackets are balanced.\");\n} else {\n    console.log(\"Brackets are not balanced.\");\n}\n\n\nQ9. Write a program to reverse a stack.\n\nclass Stack {\n    constructor() {\n        this.items = [];\n    }\n\n    push(item) {\n        this.items.push(item);\n    }\n\n    pop() {\n        if (this.isEmpty()) {\n            return null;\n        }\n        return this.items.pop();\n    }\n\n    peek() {\n        if (this.isEmpty()) {\n            return null;\n        }\n        return this.items[this.items.length - 1];\n    }\n\n    isEmpty() {\n        return this.items.length === 0;\n    }\n}\n\nfunction reverseStack(stack) {\n    const auxStack = new Stack();\n\n    # Push all elements from the original stack to the auxiliary stack\n    while (!stack.isEmpty()) {\n        auxStack.push(stack.pop());\n    }\n\n    # Push elements back from the auxiliary stack to reverse the order\n    while (!auxStack.isEmpty()) {\n        stack.push(auxStack.pop());\n    }\n}\n\n# Example usage:\nconst myStack = new Stack();\nmyStack.push(1);\nmyStack.push(2);\nmyStack.push(3);\n\nconsole.log(\"Original Stack:\", myStack.items);\nreverseStack(myStack);\nconsole.log(\"Reversed Stack:\", myStack.items);\n\n\nQ10. Write a program to find the smallest number using a stack.\n\nclass MinStack {\n    constructor() {\n        this.stack = [];\n        this.minStack = []; # Auxiliary stack to track the minimum element\n    }\n\n    push(val) {\n        this.stack.push(val);\n\n        if (this.minStack.length === 0 || val <= this.minStack[this.minStack.length - 1]) {\n            this.minStack.push(val);\n        }\n    }\n\n    pop() {\n        if (this.stack.length === 0) {\n            return;\n        }\n\n        const popped = this.stack.pop();\n\n        if (popped === this.minStack[this.minStack.length - 1]) {\n            this.minStack.pop();\n        }\n    }\n\n    top() {\n        if (this.stack.length === 0) {\n            return null;\n        }\n\n        return this.stack[this.stack.length - 1];\n    }\n\n    getMin() {\n        if (this.minStack.length === 0) {\n            return null;\n        }\n\n        return this.minStack[this.minStack.length - 1];\n    }\n}\n\n# Example usage:\nconst minStack = new MinStack();\nminStack.push(3);\nminStack.push(1);\nminStack.push(5);\n\nconsole.log(\"Minimum element:\", minStack.getMin()); # Output: 1\nminStack.pop();\nconsole.log(\"Minimum element after pop:\", minStack.getMin()); # Output: 3\n",
      "metadata": {
        "trusted": true
      },
      "execution_count": 2,
      "outputs": [
        {
          "ename": "<class 'SyntaxError'>",
          "evalue": "invalid syntax (<ipython-input-2-6777353817c4>, line 3)",
          "traceback": [
            "\u001b[0;36m  Cell \u001b[0;32mIn[2], line 3\u001b[0;36m\u001b[0m\n\u001b[0;31m    function findPairsWithSum(arr, targetSum) {\u001b[0m\n\u001b[0m             ^\u001b[0m\n\u001b[0;31mSyntaxError\u001b[0m\u001b[0;31m:\u001b[0m invalid syntax\n"
          ],
          "output_type": "error"
        }
      ],
      "id": "d5ff5dd4-6dd0-49d8-86d7-f70b75117d9e"
    },
    {
      "cell_type": "code",
      "source": "",
      "metadata": {},
      "execution_count": null,
      "outputs": [],
      "id": "10a14fc2-73c5-495d-ab95-c60c845947a6"
    },
    {
      "cell_type": "code",
      "source": "",
      "metadata": {},
      "execution_count": null,
      "outputs": [],
      "id": "f791bd72-d1b4-4047-be3a-6ea0cc4a7ac9"
    },
    {
      "cell_type": "code",
      "source": "",
      "metadata": {},
      "execution_count": null,
      "outputs": [],
      "id": "7832c892-a4e8-47c4-957a-1670de6749e9"
    },
    {
      "cell_type": "code",
      "source": "",
      "metadata": {},
      "execution_count": null,
      "outputs": [],
      "id": "2d4dfd1d-4744-46af-a120-9d1b96908097"
    },
    {
      "cell_type": "code",
      "source": "",
      "metadata": {},
      "execution_count": null,
      "outputs": [],
      "id": "ca6c5578-b386-4a0b-b547-b29ea53ba694"
    },
    {
      "cell_type": "code",
      "source": "",
      "metadata": {},
      "execution_count": null,
      "outputs": [],
      "id": "73ea9aa8-7109-42bd-8546-64c1502ffbfc"
    }
  ]
}